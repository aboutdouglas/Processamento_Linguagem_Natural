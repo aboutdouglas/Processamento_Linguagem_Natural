{
  "cells": [
    {
      "cell_type": "markdown",
      "metadata": {
        "id": "view-in-github",
        "colab_type": "text"
      },
      "source": [
        "<a href=\"https://colab.research.google.com/github/aboutdouglas/Processamento_Linguagem_Natural/blob/main/Word_Embedding%2C_Word2Vec_e_Redes_Neurais_Convencionais.ipynb\" target=\"_parent\"><img src=\"https://colab.research.google.com/assets/colab-badge.svg\" alt=\"Open In Colab\"/></a>"
      ]
    },
    {
      "cell_type": "code",
      "execution_count": 2,
      "metadata": {
        "id": "BqNHLx0jNhFr",
        "colab": {
          "base_uri": "https://localhost:8080/",
          "height": 430
        },
        "outputId": "ea246feb-9a0c-4aef-d703-a48e513b959d"
      },
      "outputs": [
        {
          "output_type": "stream",
          "name": "stdout",
          "text": [
            "Drive already mounted at /content/drive; to attempt to forcibly remount, call drive.mount(\"/content/drive\", force_remount=True).\n"
          ]
        },
        {
          "output_type": "execute_result",
          "data": {
            "text/plain": [
              "                                              review sentiment\n",
              "0  One of the other reviewers has mentioned that ...  positive\n",
              "1  A wonderful little production. <br /><br />The...  positive\n",
              "2  I thought this was a wonderful way to spend ti...  positive\n",
              "3  Basically there's a family where a little boy ...  negative\n",
              "4  Petter Mattei's \"Love in the Time of Money\" is...  positive"
            ],
            "text/html": [
              "\n",
              "  <div id=\"df-90c22ddf-0e01-4239-ac36-98d9fd320bd1\">\n",
              "    <div class=\"colab-df-container\">\n",
              "      <div>\n",
              "<style scoped>\n",
              "    .dataframe tbody tr th:only-of-type {\n",
              "        vertical-align: middle;\n",
              "    }\n",
              "\n",
              "    .dataframe tbody tr th {\n",
              "        vertical-align: top;\n",
              "    }\n",
              "\n",
              "    .dataframe thead th {\n",
              "        text-align: right;\n",
              "    }\n",
              "</style>\n",
              "<table border=\"1\" class=\"dataframe\">\n",
              "  <thead>\n",
              "    <tr style=\"text-align: right;\">\n",
              "      <th></th>\n",
              "      <th>review</th>\n",
              "      <th>sentiment</th>\n",
              "    </tr>\n",
              "  </thead>\n",
              "  <tbody>\n",
              "    <tr>\n",
              "      <th>0</th>\n",
              "      <td>One of the other reviewers has mentioned that ...</td>\n",
              "      <td>positive</td>\n",
              "    </tr>\n",
              "    <tr>\n",
              "      <th>1</th>\n",
              "      <td>A wonderful little production. &lt;br /&gt;&lt;br /&gt;The...</td>\n",
              "      <td>positive</td>\n",
              "    </tr>\n",
              "    <tr>\n",
              "      <th>2</th>\n",
              "      <td>I thought this was a wonderful way to spend ti...</td>\n",
              "      <td>positive</td>\n",
              "    </tr>\n",
              "    <tr>\n",
              "      <th>3</th>\n",
              "      <td>Basically there's a family where a little boy ...</td>\n",
              "      <td>negative</td>\n",
              "    </tr>\n",
              "    <tr>\n",
              "      <th>4</th>\n",
              "      <td>Petter Mattei's \"Love in the Time of Money\" is...</td>\n",
              "      <td>positive</td>\n",
              "    </tr>\n",
              "  </tbody>\n",
              "</table>\n",
              "</div>\n",
              "      <button class=\"colab-df-convert\" onclick=\"convertToInteractive('df-90c22ddf-0e01-4239-ac36-98d9fd320bd1')\"\n",
              "              title=\"Convert this dataframe to an interactive table.\"\n",
              "              style=\"display:none;\">\n",
              "        \n",
              "  <svg xmlns=\"http://www.w3.org/2000/svg\" height=\"24px\"viewBox=\"0 0 24 24\"\n",
              "       width=\"24px\">\n",
              "    <path d=\"M0 0h24v24H0V0z\" fill=\"none\"/>\n",
              "    <path d=\"M18.56 5.44l.94 2.06.94-2.06 2.06-.94-2.06-.94-.94-2.06-.94 2.06-2.06.94zm-11 1L8.5 8.5l.94-2.06 2.06-.94-2.06-.94L8.5 2.5l-.94 2.06-2.06.94zm10 10l.94 2.06.94-2.06 2.06-.94-2.06-.94-.94-2.06-.94 2.06-2.06.94z\"/><path d=\"M17.41 7.96l-1.37-1.37c-.4-.4-.92-.59-1.43-.59-.52 0-1.04.2-1.43.59L10.3 9.45l-7.72 7.72c-.78.78-.78 2.05 0 2.83L4 21.41c.39.39.9.59 1.41.59.51 0 1.02-.2 1.41-.59l7.78-7.78 2.81-2.81c.8-.78.8-2.07 0-2.86zM5.41 20L4 18.59l7.72-7.72 1.47 1.35L5.41 20z\"/>\n",
              "  </svg>\n",
              "      </button>\n",
              "      \n",
              "  <style>\n",
              "    .colab-df-container {\n",
              "      display:flex;\n",
              "      flex-wrap:wrap;\n",
              "      gap: 12px;\n",
              "    }\n",
              "\n",
              "    .colab-df-convert {\n",
              "      background-color: #E8F0FE;\n",
              "      border: none;\n",
              "      border-radius: 50%;\n",
              "      cursor: pointer;\n",
              "      display: none;\n",
              "      fill: #1967D2;\n",
              "      height: 32px;\n",
              "      padding: 0 0 0 0;\n",
              "      width: 32px;\n",
              "    }\n",
              "\n",
              "    .colab-df-convert:hover {\n",
              "      background-color: #E2EBFA;\n",
              "      box-shadow: 0px 1px 2px rgba(60, 64, 67, 0.3), 0px 1px 3px 1px rgba(60, 64, 67, 0.15);\n",
              "      fill: #174EA6;\n",
              "    }\n",
              "\n",
              "    [theme=dark] .colab-df-convert {\n",
              "      background-color: #3B4455;\n",
              "      fill: #D2E3FC;\n",
              "    }\n",
              "\n",
              "    [theme=dark] .colab-df-convert:hover {\n",
              "      background-color: #434B5C;\n",
              "      box-shadow: 0px 1px 3px 1px rgba(0, 0, 0, 0.15);\n",
              "      filter: drop-shadow(0px 1px 2px rgba(0, 0, 0, 0.3));\n",
              "      fill: #FFFFFF;\n",
              "    }\n",
              "  </style>\n",
              "\n",
              "      <script>\n",
              "        const buttonEl =\n",
              "          document.querySelector('#df-90c22ddf-0e01-4239-ac36-98d9fd320bd1 button.colab-df-convert');\n",
              "        buttonEl.style.display =\n",
              "          google.colab.kernel.accessAllowed ? 'block' : 'none';\n",
              "\n",
              "        async function convertToInteractive(key) {\n",
              "          const element = document.querySelector('#df-90c22ddf-0e01-4239-ac36-98d9fd320bd1');\n",
              "          const dataTable =\n",
              "            await google.colab.kernel.invokeFunction('convertToInteractive',\n",
              "                                                     [key], {});\n",
              "          if (!dataTable) return;\n",
              "\n",
              "          const docLinkHtml = 'Like what you see? Visit the ' +\n",
              "            '<a target=\"_blank\" href=https://colab.research.google.com/notebooks/data_table.ipynb>data table notebook</a>'\n",
              "            + ' to learn more about interactive tables.';\n",
              "          element.innerHTML = '';\n",
              "          dataTable['output_type'] = 'display_data';\n",
              "          await google.colab.output.renderOutput(dataTable, element);\n",
              "          const docLink = document.createElement('div');\n",
              "          docLink.innerHTML = docLinkHtml;\n",
              "          element.appendChild(docLink);\n",
              "        }\n",
              "      </script>\n",
              "    </div>\n",
              "  </div>\n",
              "  "
            ]
          },
          "metadata": {},
          "execution_count": 1
        },
        {
          "output_type": "stream",
          "name": "stdout",
          "text": [
            "Drive already mounted at /content/drive; to attempt to forcibly remount, call drive.mount(\"/content/drive\", force_remount=True).\n"
          ]
        },
        {
          "output_type": "execute_result",
          "data": {
            "text/plain": [
              "                                              review sentiment\n",
              "0  One of the other reviewers has mentioned that ...  positive\n",
              "1  A wonderful little production. <br /><br />The...  positive\n",
              "2  I thought this was a wonderful way to spend ti...  positive\n",
              "3  Basically there's a family where a little boy ...  negative\n",
              "4  Petter Mattei's \"Love in the Time of Money\" is...  positive"
            ],
            "text/html": [
              "\n",
              "  <div id=\"df-0b7d9e8b-30b3-4419-8b5e-00760bb8d159\">\n",
              "    <div class=\"colab-df-container\">\n",
              "      <div>\n",
              "<style scoped>\n",
              "    .dataframe tbody tr th:only-of-type {\n",
              "        vertical-align: middle;\n",
              "    }\n",
              "\n",
              "    .dataframe tbody tr th {\n",
              "        vertical-align: top;\n",
              "    }\n",
              "\n",
              "    .dataframe thead th {\n",
              "        text-align: right;\n",
              "    }\n",
              "</style>\n",
              "<table border=\"1\" class=\"dataframe\">\n",
              "  <thead>\n",
              "    <tr style=\"text-align: right;\">\n",
              "      <th></th>\n",
              "      <th>review</th>\n",
              "      <th>sentiment</th>\n",
              "    </tr>\n",
              "  </thead>\n",
              "  <tbody>\n",
              "    <tr>\n",
              "      <th>0</th>\n",
              "      <td>One of the other reviewers has mentioned that ...</td>\n",
              "      <td>positive</td>\n",
              "    </tr>\n",
              "    <tr>\n",
              "      <th>1</th>\n",
              "      <td>A wonderful little production. &lt;br /&gt;&lt;br /&gt;The...</td>\n",
              "      <td>positive</td>\n",
              "    </tr>\n",
              "    <tr>\n",
              "      <th>2</th>\n",
              "      <td>I thought this was a wonderful way to spend ti...</td>\n",
              "      <td>positive</td>\n",
              "    </tr>\n",
              "    <tr>\n",
              "      <th>3</th>\n",
              "      <td>Basically there's a family where a little boy ...</td>\n",
              "      <td>negative</td>\n",
              "    </tr>\n",
              "    <tr>\n",
              "      <th>4</th>\n",
              "      <td>Petter Mattei's \"Love in the Time of Money\" is...</td>\n",
              "      <td>positive</td>\n",
              "    </tr>\n",
              "  </tbody>\n",
              "</table>\n",
              "</div>\n",
              "      <button class=\"colab-df-convert\" onclick=\"convertToInteractive('df-0b7d9e8b-30b3-4419-8b5e-00760bb8d159')\"\n",
              "              title=\"Convert this dataframe to an interactive table.\"\n",
              "              style=\"display:none;\">\n",
              "        \n",
              "  <svg xmlns=\"http://www.w3.org/2000/svg\" height=\"24px\"viewBox=\"0 0 24 24\"\n",
              "       width=\"24px\">\n",
              "    <path d=\"M0 0h24v24H0V0z\" fill=\"none\"/>\n",
              "    <path d=\"M18.56 5.44l.94 2.06.94-2.06 2.06-.94-2.06-.94-.94-2.06-.94 2.06-2.06.94zm-11 1L8.5 8.5l.94-2.06 2.06-.94-2.06-.94L8.5 2.5l-.94 2.06-2.06.94zm10 10l.94 2.06.94-2.06 2.06-.94-2.06-.94-.94-2.06-.94 2.06-2.06.94z\"/><path d=\"M17.41 7.96l-1.37-1.37c-.4-.4-.92-.59-1.43-.59-.52 0-1.04.2-1.43.59L10.3 9.45l-7.72 7.72c-.78.78-.78 2.05 0 2.83L4 21.41c.39.39.9.59 1.41.59.51 0 1.02-.2 1.41-.59l7.78-7.78 2.81-2.81c.8-.78.8-2.07 0-2.86zM5.41 20L4 18.59l7.72-7.72 1.47 1.35L5.41 20z\"/>\n",
              "  </svg>\n",
              "      </button>\n",
              "      \n",
              "  <style>\n",
              "    .colab-df-container {\n",
              "      display:flex;\n",
              "      flex-wrap:wrap;\n",
              "      gap: 12px;\n",
              "    }\n",
              "\n",
              "    .colab-df-convert {\n",
              "      background-color: #E8F0FE;\n",
              "      border: none;\n",
              "      border-radius: 50%;\n",
              "      cursor: pointer;\n",
              "      display: none;\n",
              "      fill: #1967D2;\n",
              "      height: 32px;\n",
              "      padding: 0 0 0 0;\n",
              "      width: 32px;\n",
              "    }\n",
              "\n",
              "    .colab-df-convert:hover {\n",
              "      background-color: #E2EBFA;\n",
              "      box-shadow: 0px 1px 2px rgba(60, 64, 67, 0.3), 0px 1px 3px 1px rgba(60, 64, 67, 0.15);\n",
              "      fill: #174EA6;\n",
              "    }\n",
              "\n",
              "    [theme=dark] .colab-df-convert {\n",
              "      background-color: #3B4455;\n",
              "      fill: #D2E3FC;\n",
              "    }\n",
              "\n",
              "    [theme=dark] .colab-df-convert:hover {\n",
              "      background-color: #434B5C;\n",
              "      box-shadow: 0px 1px 3px 1px rgba(0, 0, 0, 0.15);\n",
              "      filter: drop-shadow(0px 1px 2px rgba(0, 0, 0, 0.3));\n",
              "      fill: #FFFFFF;\n",
              "    }\n",
              "  </style>\n",
              "\n",
              "      <script>\n",
              "        const buttonEl =\n",
              "          document.querySelector('#df-0b7d9e8b-30b3-4419-8b5e-00760bb8d159 button.colab-df-convert');\n",
              "        buttonEl.style.display =\n",
              "          google.colab.kernel.accessAllowed ? 'block' : 'none';\n",
              "\n",
              "        async function convertToInteractive(key) {\n",
              "          const element = document.querySelector('#df-0b7d9e8b-30b3-4419-8b5e-00760bb8d159');\n",
              "          const dataTable =\n",
              "            await google.colab.kernel.invokeFunction('convertToInteractive',\n",
              "                                                     [key], {});\n",
              "          if (!dataTable) return;\n",
              "\n",
              "          const docLinkHtml = 'Like what you see? Visit the ' +\n",
              "            '<a target=\"_blank\" href=https://colab.research.google.com/notebooks/data_table.ipynb>data table notebook</a>'\n",
              "            + ' to learn more about interactive tables.';\n",
              "          element.innerHTML = '';\n",
              "          dataTable['output_type'] = 'display_data';\n",
              "          await google.colab.output.renderOutput(dataTable, element);\n",
              "          const docLink = document.createElement('div');\n",
              "          docLink.innerHTML = docLinkHtml;\n",
              "          element.appendChild(docLink);\n",
              "        }\n",
              "      </script>\n",
              "    </div>\n",
              "  </div>\n",
              "  "
            ]
          },
          "metadata": {},
          "execution_count": 2
        }
      ],
      "source": [
        "import pandas as pd\n",
        "from google.colab import drive\n",
        "\n",
        "drive.mount('/content/drive')\n",
        "df = pd.read_csv('/content/drive/MyDrive/Colab Notebooks/Pós Graduação/Bases/IMDB_Dataset.csv')\n",
        "df.head()"
      ]
    },
    {
      "cell_type": "code",
      "execution_count": 3,
      "metadata": {
        "id": "AgnvgQpKOhGJ",
        "colab": {
          "base_uri": "https://localhost:8080/"
        },
        "outputId": "8f37d545-3037-44b0-a30b-e0ef1db44e06"
      },
      "outputs": [
        {
          "output_type": "stream",
          "name": "stdout",
          "text": [
            "X_train shape: (40000,)\n",
            "y_train shape: (40000,)\n",
            "X_test shape: (10000,)\n",
            "y_test shape: (10000,)\n"
          ]
        }
      ],
      "source": [
        "import sklearn\n",
        "from sklearn.model_selection import train_test_split\n",
        "\n",
        "X_train, X_test, y_train, y_test = train_test_split(df['review'], df['sentiment'], test_size=0.2, random_state=0)\n",
        "\n",
        "print('X_train shape:', X_train.shape)\n",
        "print('y_train shape:', y_train.shape)\n",
        "print('X_test shape:', X_test.shape)\n",
        "print('y_test shape:', y_test.shape)"
      ]
    },
    {
      "cell_type": "markdown",
      "metadata": {
        "id": "uoDuQfVyRWW6"
      },
      "source": [
        "Comecemos utilizando a classe Tokenizer, que pode vetorizar um corpus de texto em uma lista de inteiros, os quais representam o índice da palavra no dicionário que codifica todo o corpus. O parâmetro \"num_words\" define o tamanho máximo desse dicionário. "
      ]
    },
    {
      "cell_type": "code",
      "execution_count": 4,
      "metadata": {
        "id": "95Vp87hlRQNm",
        "colab": {
          "base_uri": "https://localhost:8080/"
        },
        "outputId": "e7ceec95-f256-41e1-cab3-0c18c3af2c02"
      },
      "outputs": [
        {
          "output_type": "stream",
          "name": "stdout",
          "text": [
            "One of the other reviewers has mentioned that after watching just 1 Oz episode you'll be hooked. They are right, as this is exactly what happened with me.<br /><br />The first thing that struck me about Oz was its brutality and unflinching scenes of violence, which set in right from the word GO. Trust me, this is not a show for the faint hearted or timid. This show pulls no punches with regards to drugs, sex or violence. Its is hardcore, in the classic use of the word.<br /><br />It is called OZ as that is the nickname given to the Oswald Maximum Security State Penitentary. It focuses mainly on Emerald City, an experimental section of the prison where all the cells have glass fronts and face inwards, so privacy is not high on the agenda. Em City is home to many..Aryans, Muslims, gangstas, Latinos, Christians, Italians, Irish and more....so scuffles, death stares, dodgy dealings and shady agreements are never far away.<br /><br />I would say the main appeal of the show is due to the fact that it goes where other shows wouldn't dare. Forget pretty pictures painted for mainstream audiences, forget charm, forget romance...OZ doesn't mess around. The first episode I ever saw struck me as so nasty it was surreal, I couldn't say I was ready for it, but as I watched more, I developed a taste for Oz, and got accustomed to the high levels of graphic violence. Not just violence, but injustice (crooked guards who'll be sold out for a nickel, inmates who'll kill on order and get away with it, well mannered, middle class inmates being turned into prison bitches due to their lack of street skills or prison experience) Watching Oz, you may become comfortable with what is uncomfortable viewing....thats if you can get in touch with your darker side.\n",
            "[196, 41, 1, 61, 1712, 481, 8, 3, 17, 12, 884, 7195, 1, 6149, 1721, 31, 2349, 1378, 4, 56, 113, 2, 285, 16, 109, 1017, 7, 7, 922, 87, 12, 219, 15, 1, 4348, 122, 190, 3, 8164, 8, 372, 6, 681, 68]\n",
            "CPU times: user 17.2 s, sys: 331 ms, total: 17.6 s\n",
            "Wall time: 17.6 s\n"
          ]
        }
      ],
      "source": [
        "%%time\n",
        "from keras.preprocessing.text import Tokenizer\n",
        "\n",
        "tokenizer = Tokenizer(num_words=10000)\n",
        "tokenizer.fit_on_texts(X_train)\n",
        "tk_X_train = tokenizer.texts_to_sequences(X_train)\n",
        "tk_X_test = tokenizer.texts_to_sequences(X_test)\n",
        "\n",
        "vocab_size = len(tokenizer.word_index) + 1\n",
        "print(X_train[0])\n",
        "print(tk_X_train[0])"
      ]
    },
    {
      "cell_type": "markdown",
      "metadata": {
        "id": "dtdFf7-cUEZD"
      },
      "source": [
        "Conforme pode ser observado acima, em vez de trabalhar com um vetor de 10000 colunas para representar o dicionário, conseguimos reduzir bastante a dimensionalidade. As palavras são colocadas no dicionário ordenadas a partir das possuem maior frequência. Veja, a seguir, alguns exemplos."
      ]
    },
    {
      "cell_type": "code",
      "execution_count": 5,
      "metadata": {
        "id": "T20mKfU9UG-A",
        "colab": {
          "base_uri": "https://localhost:8080/"
        },
        "outputId": "0202536d-207f-4f68-f2fe-9ad09e38dedf"
      },
      "outputs": [
        {
          "output_type": "stream",
          "name": "stdout",
          "text": [
            "movie: 17\n",
            "film: 19\n",
            "the: 1\n",
            "one: 27\n"
          ]
        }
      ],
      "source": [
        "for word in ['movie', 'film', 'the', 'one']:\n",
        "  print('{}: {}'.format(word, tokenizer.word_index[word]))\n"
      ]
    },
    {
      "cell_type": "markdown",
      "metadata": {
        "id": "sMZIuadaUwt1"
      },
      "source": [
        "O único obstáculo é que cada sentença terá um tamanho diferente, pois cada sentença tem um número de tokens próprio. Para resolver isso, podemos identificar qual o valor máximo e, depois, preencher o vetor com zeros. Vamos identificar primeiro o maior vetor: "
      ]
    },
    {
      "cell_type": "code",
      "execution_count": 6,
      "metadata": {
        "id": "-LDLlZTjUzgI",
        "colab": {
          "base_uri": "https://localhost:8080/"
        },
        "outputId": "d336ba6f-e808-488c-8aec-b8107b402c8a"
      },
      "outputs": [
        {
          "output_type": "stream",
          "name": "stdout",
          "text": [
            "Max size: 2211\n"
          ]
        }
      ],
      "source": [
        "print('Max size:', max([len(i) for i in tk_X_train]))"
      ]
    },
    {
      "cell_type": "markdown",
      "metadata": {
        "id": "dYjpKGE9VDgg"
      },
      "source": [
        "Em seguida, é necessário realizar o padding para preencher com zeros:"
      ]
    },
    {
      "cell_type": "code",
      "execution_count": 7,
      "metadata": {
        "id": "OQuLgTBIVEMr",
        "colab": {
          "base_uri": "https://localhost:8080/"
        },
        "outputId": "26c95e7e-a46d-4688-bf7d-277be3ffd8bc"
      },
      "outputs": [
        {
          "output_type": "stream",
          "name": "stdout",
          "text": [
            "[196  41   1 ...   0   0   0]\n"
          ]
        }
      ],
      "source": [
        "from keras.preprocessing.sequence import pad_sequences\n",
        "\n",
        "maxlen = max([len(i) for i in tk_X_train])\n",
        "tk_pad_X_train  = pad_sequences(tk_X_train, padding='post', maxlen=maxlen)\n",
        "tk_pad_X_test = pad_sequences(tk_X_test, padding='post', maxlen=maxlen)\n",
        "print(tk_pad_X_train[0,:])"
      ]
    },
    {
      "cell_type": "markdown",
      "metadata": {
        "id": "VkkYRofKWUv7"
      },
      "source": [
        "Agora, temos, no máximo, um vetor com 2211 colunas, que é o máximo de palavras que uma review possui. Neste momento, vamos codificar a saída esperada (Target), conforme já feito anteriormente:"
      ]
    },
    {
      "cell_type": "code",
      "execution_count": 8,
      "metadata": {
        "id": "q1cBYB9CWnS_",
        "colab": {
          "base_uri": "https://localhost:8080/"
        },
        "outputId": "2025fe40-8d8c-422d-e7f9-efb3101b0c52"
      },
      "outputs": [
        {
          "output_type": "stream",
          "name": "stdout",
          "text": [
            "ohe_y_train shape: (40000, 1)\n",
            "ohe_y_test shape: (10000, 1)\n"
          ]
        }
      ],
      "source": [
        "from sklearn.preprocessing import LabelBinarizer\n",
        "lb = LabelBinarizer()\n",
        "\n",
        "ohe_y_train = lb.fit_transform(y_train)\n",
        "ohe_y_test = lb.fit_transform(y_test)\n",
        "print('ohe_y_train shape:', ohe_y_train.shape)\n",
        "print('ohe_y_test shape:', ohe_y_test.shape)"
      ]
    },
    {
      "cell_type": "markdown",
      "metadata": {
        "id": "JFmruc__XTtI"
      },
      "source": [
        "Podemos, agora, utilizar a classe Embedding do Keras para incorporar essa nova codificação. Essa camada Embedding pega os inteiros calculados anteriormente e os mapeia para um vetor denso de incorporação. Mas, antes, vamos fazer as importações necessárias, conforme a seguir."
      ]
    },
    {
      "cell_type": "code",
      "execution_count": 9,
      "metadata": {
        "id": "8_z77nJYXcuU"
      },
      "outputs": [],
      "source": [
        "from keras.models import Sequential\n",
        "from keras.layers import Embedding, Flatten, Dense, GlobalMaxPool1D, Dropout, Conv1D, GlobalMaxPool1D\n",
        "import tensorflow\n",
        "from keras.optimizers import adam_v2 as Adam"
      ]
    },
    {
      "cell_type": "markdown",
      "metadata": {
        "id": "IafhpKsuYAqv"
      },
      "source": [
        "E definir os hiperparâmetros do treinamento:"
      ]
    },
    {
      "cell_type": "code",
      "execution_count": 10,
      "metadata": {
        "id": "DF86SM_2YASv"
      },
      "outputs": [],
      "source": [
        "from keras.optimizer_v1 import Optimizer\n",
        "NB_EPOCH = 20\n",
        "BATCH_SIZE = 128\n",
        "VERBOSE = 1\n",
        "OPTIMIZER = Adam"
      ]
    },
    {
      "cell_type": "markdown",
      "metadata": {
        "id": "ppiRKu5rZBLM"
      },
      "source": [
        "Agora, sim, vamos definir uma arquitetura de rede neural:"
      ]
    },
    {
      "cell_type": "code",
      "execution_count": 11,
      "metadata": {
        "id": "XFDZQ_oSZB9B",
        "colab": {
          "base_uri": "https://localhost:8080/"
        },
        "outputId": "061f4e25-6957-4d7c-b474-85c95e13179a"
      },
      "outputs": [
        {
          "output_type": "stream",
          "name": "stdout",
          "text": [
            "Model: \"sequential\"\n",
            "_________________________________________________________________\n",
            " Layer (type)                Output Shape              Param #   \n",
            "=================================================================\n",
            " embedding (Embedding)       (None, 2211, 50)          5606350   \n",
            "                                                                 \n",
            " flatten (Flatten)           (None, 110550)            0         \n",
            "                                                                 \n",
            " dense (Dense)               (None, 10)                1105510   \n",
            "                                                                 \n",
            " dense_1 (Dense)             (None, 1)                 11        \n",
            "                                                                 \n",
            "=================================================================\n",
            "Total params: 6,711,871\n",
            "Trainable params: 6,711,871\n",
            "Non-trainable params: 0\n",
            "_________________________________________________________________\n"
          ]
        }
      ],
      "source": [
        "model = Sequential()\n",
        "model.add(Embedding(input_dim=vocab_size, output_dim=50, input_length=maxlen))\n",
        "model.add(Flatten())\n",
        "model.add(Dense(10, activation='relu'))\n",
        "model.add(Dense(1, activation='sigmoid'))\n",
        "model.compile(optimizer='Adam', loss='binary_crossentropy', metrics=['accuracy'])\n",
        "model.summary()"
      ]
    },
    {
      "cell_type": "markdown",
      "metadata": {
        "id": "556tFxZPeNbZ"
      },
      "source": [
        "Veja que esta já é uma rede de bem mais parâmetros. Vamos treinar com o uso de GPU e ver o resultado."
      ]
    },
    {
      "cell_type": "code",
      "execution_count": 12,
      "metadata": {
        "colab": {
          "base_uri": "https://localhost:8080/"
        },
        "id": "ZqITZAddeON-",
        "outputId": "c95c2e6e-65dd-4b59-dcbf-278a9c3c92db"
      },
      "outputs": [
        {
          "output_type": "stream",
          "name": "stdout",
          "text": [
            "Epoch 1/20\n",
            "313/313 [==============================] - 50s 156ms/step - loss: 0.4708 - accuracy: 0.7581 - val_loss: 0.2928 - val_accuracy: 0.8785\n",
            "Epoch 2/20\n",
            "313/313 [==============================] - 47s 151ms/step - loss: 0.2227 - accuracy: 0.9137 - val_loss: 0.2688 - val_accuracy: 0.8912\n",
            "Epoch 3/20\n",
            "313/313 [==============================] - 47s 151ms/step - loss: 0.1518 - accuracy: 0.9458 - val_loss: 0.2834 - val_accuracy: 0.8867\n",
            "Epoch 4/20\n",
            "313/313 [==============================] - 47s 151ms/step - loss: 0.0903 - accuracy: 0.9750 - val_loss: 0.3004 - val_accuracy: 0.8914\n",
            "Epoch 5/20\n",
            "313/313 [==============================] - 47s 151ms/step - loss: 0.0437 - accuracy: 0.9925 - val_loss: 0.3377 - val_accuracy: 0.8885\n",
            "Epoch 6/20\n",
            "313/313 [==============================] - 47s 151ms/step - loss: 0.0210 - accuracy: 0.9977 - val_loss: 0.3709 - val_accuracy: 0.8859\n",
            "Epoch 7/20\n",
            "313/313 [==============================] - 47s 151ms/step - loss: 0.0106 - accuracy: 0.9991 - val_loss: 0.3947 - val_accuracy: 0.8859\n",
            "Epoch 8/20\n",
            "313/313 [==============================] - 47s 151ms/step - loss: 0.0054 - accuracy: 0.9997 - val_loss: 0.4594 - val_accuracy: 0.8854\n",
            "Epoch 9/20\n",
            "313/313 [==============================] - 47s 151ms/step - loss: 0.0026 - accuracy: 0.9998 - val_loss: 0.5079 - val_accuracy: 0.8836\n",
            "Epoch 10/20\n",
            "313/313 [==============================] - 47s 151ms/step - loss: 8.7908e-04 - accuracy: 0.9999 - val_loss: 0.5596 - val_accuracy: 0.8825\n",
            "Epoch 11/20\n",
            "313/313 [==============================] - 47s 152ms/step - loss: 3.5453e-04 - accuracy: 0.9999 - val_loss: 0.5980 - val_accuracy: 0.8834\n",
            "Epoch 12/20\n",
            "313/313 [==============================] - 47s 151ms/step - loss: 1.8065e-04 - accuracy: 1.0000 - val_loss: 0.6440 - val_accuracy: 0.8829\n",
            "Epoch 13/20\n",
            "313/313 [==============================] - 49s 156ms/step - loss: 1.2006e-04 - accuracy: 1.0000 - val_loss: 0.6629 - val_accuracy: 0.8830\n",
            "Epoch 14/20\n",
            "313/313 [==============================] - 47s 151ms/step - loss: 7.9429e-05 - accuracy: 1.0000 - val_loss: 0.6885 - val_accuracy: 0.8830\n",
            "Epoch 15/20\n",
            "313/313 [==============================] - 47s 151ms/step - loss: 5.8423e-05 - accuracy: 1.0000 - val_loss: 0.7059 - val_accuracy: 0.8830\n",
            "Epoch 16/20\n",
            "313/313 [==============================] - 47s 151ms/step - loss: 4.3457e-05 - accuracy: 1.0000 - val_loss: 0.7278 - val_accuracy: 0.8826\n",
            "Epoch 17/20\n",
            "313/313 [==============================] - 47s 151ms/step - loss: 3.2484e-05 - accuracy: 1.0000 - val_loss: 0.7437 - val_accuracy: 0.8828\n",
            "Epoch 18/20\n",
            "313/313 [==============================] - 47s 152ms/step - loss: 2.5216e-05 - accuracy: 1.0000 - val_loss: 0.7603 - val_accuracy: 0.8828\n",
            "Epoch 19/20\n",
            "313/313 [==============================] - 47s 151ms/step - loss: 1.9698e-05 - accuracy: 1.0000 - val_loss: 0.7767 - val_accuracy: 0.8827\n",
            "Epoch 20/20\n",
            "313/313 [==============================] - 47s 151ms/step - loss: 1.5818e-05 - accuracy: 1.0000 - val_loss: 0.7941 - val_accuracy: 0.8826\n",
            "CPU times: user 27min 46s, sys: 50.8 s, total: 28min 37s\n",
            "Wall time: 16min 22s\n"
          ]
        }
      ],
      "source": [
        "%%time\n",
        "history = model.fit(tk_pad_X_train, ohe_y_train, epochs=NB_EPOCH, verbose=1, validation_data=(tk_pad_X_test, ohe_y_test),\n",
        "                    batch_size=BATCH_SIZE)"
      ]
    },
    {
      "cell_type": "markdown",
      "metadata": {
        "id": "bQdAGn2ViyPQ"
      },
      "source": [
        "Vamos calcular a acurácia:"
      ]
    },
    {
      "cell_type": "code",
      "execution_count": 13,
      "metadata": {
        "colab": {
          "base_uri": "https://localhost:8080/"
        },
        "id": "GcNV4UDGi0Rx",
        "outputId": "909f0d2a-65c4-4996-ed7f-5faf75064e98"
      },
      "outputs": [
        {
          "output_type": "stream",
          "name": "stdout",
          "text": [
            "Acurácia do Teste: 0.8826\n"
          ]
        }
      ],
      "source": [
        "loss, accuracy = model.evaluate(tk_pad_X_test, ohe_y_test, verbose=False)\n",
        "print(\"Acurácia do Teste: {:.4f}\".format(accuracy))"
      ]
    },
    {
      "cell_type": "markdown",
      "source": [
        ""
      ],
      "metadata": {
        "id": "duPHQ327orSy"
      }
    },
    {
      "cell_type": "markdown",
      "metadata": {
        "id": "CYS8QJlgoPWl"
      },
      "source": [
        "Veja que obtivemos 88,25%.\n",
        "\n",
        "Vamos definir uma função para plotar a acurácia e perda do treino e teste."
      ]
    },
    {
      "cell_type": "code",
      "execution_count": 14,
      "metadata": {
        "colab": {
          "base_uri": "https://localhost:8080/",
          "height": 336
        },
        "id": "l9FzyYCdoTRv",
        "outputId": "5ad80702-eabd-4b54-cfdc-4eaa1e0228a0"
      },
      "outputs": [
        {
          "output_type": "display_data",
          "data": {
            "text/plain": [
              "<Figure size 864x360 with 2 Axes>"
            ],
            "image/png": "[encoded data removed]"
          },
          "metadata": {
            "needs_background": "light"
          }
        }
      ],
      "source": [
        "import matplotlib\n",
        "import matplotlib.pyplot as plt\n",
        "\n",
        "def plot_history(history):\n",
        "  acc = history.history['accuracy']\n",
        "  val_acc = history.history['val_accuracy']\n",
        "  loss = history.history['loss']\n",
        "  val_loss = history.history['val_loss']\n",
        "  x = range(1, len(acc) + 1)\n",
        "  plt.figure(figsize=(12,5))\n",
        "  plt.subplot(1, 2, 1)\n",
        "  plt.plot(x, acc, 'b', label='Precisão de treinamento')\n",
        "  plt.plot(x, val_acc, 'r', label='Precisão de validação')\n",
        "  plt.title('Precisão de treinamento e validação')\n",
        "  plt.legend()\n",
        "  plt.subplot(1, 2, 2)\n",
        "  plt.plot(x, loss, 'b', label='Perda de treinamento')\n",
        "  plt.plot(x, val_loss, 'r', label='Perda de validação')\n",
        "  plt.title('Perda de treinamento e validação')\n",
        "  plt.legend()\n",
        "\n",
        "plot_history(history)"
      ]
    },
    {
      "cell_type": "markdown",
      "metadata": {
        "id": "RCx_ktT8vEWz"
      },
      "source": [
        "Conforme visto acima, o treinamento chegou próximo de 100% para os dados de treino, mas não para os dados de teste. Isso pode ser pelo fato de não termos adicionado uma camada Dropout. Veja que o resultado não alterou após uma quantidade de épocas, logo, vamos limitar a execução para 10 épocas. Além disso, vamos adicionar à nossa rede uma camada Max Pooling após o Embedding, como uma forma de reduzir o tamanho dos vetores de entrada."
      ]
    },
    {
      "cell_type": "code",
      "execution_count": 15,
      "metadata": {
        "colab": {
          "base_uri": "https://localhost:8080/"
        },
        "id": "j1i5GWW4vOgX",
        "outputId": "3932c0ea-0ccd-4d65-b478-1010990f2ecc"
      },
      "outputs": [
        {
          "output_type": "stream",
          "name": "stdout",
          "text": [
            "Model: \"sequential_1\"\n",
            "_________________________________________________________________\n",
            " Layer (type)                Output Shape              Param #   \n",
            "=================================================================\n",
            " embedding_1 (Embedding)     (None, 2211, 50)          5606350   \n",
            "                                                                 \n",
            " global_max_pooling1d (Globa  (None, 50)               0         \n",
            " lMaxPooling1D)                                                  \n",
            "                                                                 \n",
            " dense_2 (Dense)             (None, 16)                816       \n",
            "                                                                 \n",
            " dropout (Dropout)           (None, 16)                0         \n",
            "                                                                 \n",
            " dense_3 (Dense)             (None, 1)                 17        \n",
            "                                                                 \n",
            "=================================================================\n",
            "Total params: 5,607,183\n",
            "Trainable params: 5,607,183\n",
            "Non-trainable params: 0\n",
            "_________________________________________________________________\n"
          ]
        }
      ],
      "source": [
        "model = Sequential()\n",
        "model.add(Embedding(input_dim=vocab_size, output_dim=50, input_length=maxlen))\n",
        "model.add(GlobalMaxPool1D())\n",
        "model.add(Dense(16, activation='relu'))\n",
        "model.add(Dropout(0.5))\n",
        "model.add(Dense(1, activation='sigmoid'))\n",
        "model.compile(optimizer='Adam', loss = 'binary_crossentropy', metrics=['accuracy'])\n",
        "model.summary() "
      ]
    },
    {
      "cell_type": "markdown",
      "metadata": {
        "id": "xE3xB2onwaMq"
      },
      "source": [
        "Vamos treinar e ver o resultado."
      ]
    },
    {
      "cell_type": "code",
      "execution_count": 16,
      "metadata": {
        "id": "rHkL9fRXwbvw",
        "colab": {
          "base_uri": "https://localhost:8080/"
        },
        "outputId": "8910349d-b2e2-4b1b-e090-28f044d0edc5"
      },
      "outputs": [
        {
          "output_type": "stream",
          "name": "stdout",
          "text": [
            "Epoch 1/20\n",
            "313/313 [==============================] - 49s 155ms/step - loss: 0.6116 - accuracy: 0.6844 - val_loss: 0.4357 - val_accuracy: 0.8486\n",
            "Epoch 2/20\n",
            "313/313 [==============================] - 48s 153ms/step - loss: 0.3867 - accuracy: 0.8506 - val_loss: 0.3153 - val_accuracy: 0.8683\n",
            "Epoch 3/20\n",
            "313/313 [==============================] - 49s 157ms/step - loss: 0.2954 - accuracy: 0.8909 - val_loss: 0.2897 - val_accuracy: 0.8767\n",
            "Epoch 4/20\n",
            "313/313 [==============================] - 48s 154ms/step - loss: 0.2472 - accuracy: 0.9152 - val_loss: 0.2832 - val_accuracy: 0.8821\n",
            "Epoch 5/20\n",
            "313/313 [==============================] - 48s 154ms/step - loss: 0.2096 - accuracy: 0.9324 - val_loss: 0.2891 - val_accuracy: 0.8808\n",
            "Epoch 6/20\n",
            "313/313 [==============================] - 48s 154ms/step - loss: 0.1773 - accuracy: 0.9457 - val_loss: 0.3005 - val_accuracy: 0.8812\n",
            "Epoch 7/20\n",
            "313/313 [==============================] - 48s 155ms/step - loss: 0.1475 - accuracy: 0.9571 - val_loss: 0.3236 - val_accuracy: 0.8785\n",
            "Epoch 8/20\n",
            "313/313 [==============================] - 48s 154ms/step - loss: 0.1248 - accuracy: 0.9669 - val_loss: 0.3403 - val_accuracy: 0.8786\n",
            "Epoch 9/20\n",
            "313/313 [==============================] - 48s 154ms/step - loss: 0.1028 - accuracy: 0.9743 - val_loss: 0.3740 - val_accuracy: 0.8770\n",
            "Epoch 10/20\n",
            "313/313 [==============================] - 48s 154ms/step - loss: 0.0842 - accuracy: 0.9797 - val_loss: 0.3862 - val_accuracy: 0.8771\n",
            "Epoch 11/20\n",
            "313/313 [==============================] - 48s 154ms/step - loss: 0.0711 - accuracy: 0.9845 - val_loss: 0.4225 - val_accuracy: 0.8772\n",
            "Epoch 12/20\n",
            "313/313 [==============================] - 48s 154ms/step - loss: 0.0576 - accuracy: 0.9882 - val_loss: 0.4549 - val_accuracy: 0.8746\n",
            "Epoch 13/20\n",
            "313/313 [==============================] - 48s 155ms/step - loss: 0.0478 - accuracy: 0.9905 - val_loss: 0.4979 - val_accuracy: 0.8726\n",
            "Epoch 14/20\n",
            "313/313 [==============================] - 49s 157ms/step - loss: 0.0393 - accuracy: 0.9927 - val_loss: 0.5382 - val_accuracy: 0.8734\n",
            "Epoch 15/20\n",
            "313/313 [==============================] - 50s 161ms/step - loss: 0.0340 - accuracy: 0.9938 - val_loss: 0.5637 - val_accuracy: 0.8742\n",
            "Epoch 16/20\n",
            "313/313 [==============================] - 49s 156ms/step - loss: 0.0268 - accuracy: 0.9952 - val_loss: 0.5969 - val_accuracy: 0.8717\n",
            "Epoch 17/20\n",
            "313/313 [==============================] - 49s 157ms/step - loss: 0.0234 - accuracy: 0.9958 - val_loss: 0.6593 - val_accuracy: 0.8719\n",
            "Epoch 18/20\n",
            "313/313 [==============================] - 49s 156ms/step - loss: 0.0193 - accuracy: 0.9962 - val_loss: 0.6990 - val_accuracy: 0.8703\n",
            "Epoch 19/20\n",
            "313/313 [==============================] - 48s 154ms/step - loss: 0.0153 - accuracy: 0.9974 - val_loss: 0.7401 - val_accuracy: 0.8694\n",
            "Epoch 20/20\n",
            "313/313 [==============================] - 49s 155ms/step - loss: 0.0134 - accuracy: 0.9972 - val_loss: 0.7759 - val_accuracy: 0.8686\n",
            "CPU times: user 27min 36s, sys: 48.9 s, total: 28min 25s\n",
            "Wall time: 16min 11s\n"
          ]
        }
      ],
      "source": [
        "%%time\n",
        "history = model.fit(tk_pad_X_train, ohe_y_train, epochs=NB_EPOCH, verbose=1,\n",
        "                    validation_data=(tk_pad_X_test, ohe_y_test),\n",
        "                    batch_size=BATCH_SIZE)"
      ]
    },
    {
      "cell_type": "markdown",
      "metadata": {
        "id": "xxc3xTHmQ_8T"
      },
      "source": [
        "Vamos calcular a acurácia:"
      ]
    },
    {
      "cell_type": "code",
      "execution_count": 17,
      "metadata": {
        "id": "LZyIX_mjRCwK",
        "colab": {
          "base_uri": "https://localhost:8080/"
        },
        "outputId": "8a00337e-c41e-468e-a580-51d8cd3bacd2"
      },
      "outputs": [
        {
          "output_type": "stream",
          "name": "stdout",
          "text": [
            "Acurácia do Teste: 0.8686\n"
          ]
        }
      ],
      "source": [
        "loss, accuracy = model.evaluate(tk_pad_X_test, ohe_y_test, verbose=False)\n",
        "print('Acurácia do Teste: {:.4f}'.format(accuracy))"
      ]
    },
    {
      "cell_type": "markdown",
      "metadata": {
        "id": "bW4kUAXaR9tI"
      },
      "source": [
        "Na próxima imagem, podemos ver novamente os gráficos do treinamento: primeiramente da acurácia (que queremos maximizar); e outro da função de perda (que queremos minimizar). As linhas azuis se referem ao resultado com dados de treino, e a vermelha aos dados de teste."
      ]
    },
    {
      "cell_type": "code",
      "execution_count": 18,
      "metadata": {
        "id": "Zv5QOVbQR2Gi",
        "colab": {
          "base_uri": "https://localhost:8080/",
          "height": 336
        },
        "outputId": "f90e3a64-2fb3-43a6-be12-5e7c197b9522"
      },
      "outputs": [
        {
          "output_type": "display_data",
          "data": {
            "text/plain": [
              "<Figure size 864x360 with 2 Axes>"
            ],
            "image/png": "[encoded data removed]"
          },
          "metadata": {
            "needs_background": "light"
          }
        }
      ],
      "source": [
        "plot_history(history)"
      ]
    },
    {
      "cell_type": "markdown",
      "metadata": {
        "id": "Yj0g96ILSaXa"
      },
      "source": [
        "Na figura acima, podemos observar o resultado do treinamento do nosso modelo por meio dos gráficos de acurácia (accuracy) e função de perda (validation loss). Podemos perceber que, com os dados de treino, obtivemos um resultado bem satisfatório, acima de 0.95 de acurácia e com perda abaixo de 0.1. No entanto, com os dados de treinos, o resultado ficou cerca de 0.87."
      ]
    },
    {
      "cell_type": "code",
      "execution_count": 19,
      "metadata": {
        "id": "oh7ntJhg2ylp",
        "colab": {
          "base_uri": "https://localhost:8080/"
        },
        "outputId": "5707a860-96f9-4301-cc48-662d12743b45"
      },
      "outputs": [
        {
          "output_type": "stream",
          "name": "stdout",
          "text": [
            "/content/drive/MyDrive/Colab Notebooks\n"
          ]
        }
      ],
      "source": [
        "%cd drive/MyDrive/'Colab Notebooks'"
      ]
    },
    {
      "cell_type": "markdown",
      "source": [
        "CNN"
      ],
      "metadata": {
        "id": "bH1GneEQp_wY"
      }
    },
    {
      "cell_type": "markdown",
      "source": [
        "CNN processa considerando a proximidade das palavras e identificar os melhores mapas de atributos (feature maps) que serão úteis para o processo de classificação."
      ],
      "metadata": {
        "id": "QBZZUSsoqCIB"
      }
    },
    {
      "cell_type": "code",
      "source": [
        "NB_EPOCH = 3\n",
        "BATCH_SIZE = 128\n",
        "VERBOSE = 1\n",
        "OPTIMIZER = Adam"
      ],
      "metadata": {
        "id": "898J0qerqBpA"
      },
      "execution_count": 21,
      "outputs": []
    },
    {
      "cell_type": "markdown",
      "source": [
        "Após definir os hiperparâmetros, vamos definir a rede neural CNN:"
      ],
      "metadata": {
        "id": "6CH7xazwqmfA"
      }
    },
    {
      "cell_type": "code",
      "source": [
        "model = Sequential()\n",
        "model.add(Embedding(vocab_size, 128, input_length=maxlen))\n",
        "model.add(Conv1D(64, 5, activation='relu'))\n",
        "model.add(GlobalMaxPool1D())\n",
        "model.add(Flatten())\n",
        "model.add(Dropout(rate=0.4))\n",
        "model.add(Dense(32, activation='relu'))\n",
        "model.add(Dropout(rate=0.4))\n",
        "model.add(Dense(1, activation='sigmoid'))\n",
        "model.compile(optimizer='adam', loss='binary_crossentropy', metrics=['accuracy'])\n",
        "model.summary()"
      ],
      "metadata": {
        "colab": {
          "base_uri": "https://localhost:8080/"
        },
        "id": "4DAGtOIYqneY",
        "outputId": "fa0fb87e-286c-4ca7-b084-81a7dd3b6230"
      },
      "execution_count": 24,
      "outputs": [
        {
          "output_type": "stream",
          "name": "stdout",
          "text": [
            "Model: \"sequential_4\"\n",
            "_________________________________________________________________\n",
            " Layer (type)                Output Shape              Param #   \n",
            "=================================================================\n",
            " embedding_3 (Embedding)     (None, 2211, 128)         14352256  \n",
            "                                                                 \n",
            " conv1d_1 (Conv1D)           (None, 2207, 64)          41024     \n",
            "                                                                 \n",
            " global_max_pooling1d_1 (Glo  (None, 64)               0         \n",
            " balMaxPooling1D)                                                \n",
            "                                                                 \n",
            " flatten_1 (Flatten)         (None, 64)                0         \n",
            "                                                                 \n",
            " dropout_1 (Dropout)         (None, 64)                0         \n",
            "                                                                 \n",
            " dense_4 (Dense)             (None, 32)                2080      \n",
            "                                                                 \n",
            " dropout_2 (Dropout)         (None, 32)                0         \n",
            "                                                                 \n",
            " dense_5 (Dense)             (None, 1)                 33        \n",
            "                                                                 \n",
            "=================================================================\n",
            "Total params: 14,395,393\n",
            "Trainable params: 14,395,393\n",
            "Non-trainable params: 0\n",
            "_________________________________________________________________\n"
          ]
        }
      ]
    },
    {
      "cell_type": "markdown",
      "source": [
        "Treinamento"
      ],
      "metadata": {
        "id": "Bh6HnIjlq8I7"
      }
    },
    {
      "cell_type": "code",
      "source": [
        "%%time\n",
        "history = model.fit(tk_pad_X_train, ohe_y_train,\n",
        "                    epochs=NB_EPOCH,\n",
        "                    verbose=1,\n",
        "                    validation_data=(tk_pad_X_test, ohe_y_test),\n",
        "                    batch_size=BATCH_SIZE)"
      ],
      "metadata": {
        "colab": {
          "base_uri": "https://localhost:8080/"
        },
        "id": "VsOb046dq9uq",
        "outputId": "19f19c3c-3015-492e-85cd-e78703473e11"
      },
      "execution_count": 25,
      "outputs": [
        {
          "output_type": "stream",
          "name": "stdout",
          "text": [
            "Epoch 1/3\n",
            "313/313 [==============================] - 592s 2s/step - loss: 0.5268 - accuracy: 0.7193 - val_loss: 0.3127 - val_accuracy: 0.8724\n",
            "Epoch 2/3\n",
            "313/313 [==============================] - 587s 2s/step - loss: 0.2836 - accuracy: 0.8901 - val_loss: 0.2614 - val_accuracy: 0.8920\n",
            "Epoch 3/3\n",
            "313/313 [==============================] - 587s 2s/step - loss: 0.1898 - accuracy: 0.9325 - val_loss: 0.2696 - val_accuracy: 0.8916\n",
            "CPU times: user 55min 59s, sys: 46.1 s, total: 56min 45s\n",
            "Wall time: 30min 22s\n"
          ]
        }
      ]
    },
    {
      "cell_type": "markdown",
      "source": [
        "Resultado"
      ],
      "metadata": {
        "id": "hkJVATy2rFq3"
      }
    },
    {
      "cell_type": "code",
      "source": [
        "loss, accuracy = model.evaluate(tk_pad_X_test, ohe_y_test, verbose=False)\n",
        "print(\"Acurácia do Teste:  {:.4f}\".format(accuracy))"
      ],
      "metadata": {
        "colab": {
          "base_uri": "https://localhost:8080/"
        },
        "id": "03078GIXrHdM",
        "outputId": "911ecf9f-900e-4764-b5ef-fa8d8c380c66"
      },
      "execution_count": 26,
      "outputs": [
        {
          "output_type": "stream",
          "name": "stdout",
          "text": [
            "Acurácia do Teste:  0.8916\n"
          ]
        }
      ]
    },
    {
      "cell_type": "code",
      "source": [
        "plot_history(history)"
      ],
      "metadata": {
        "colab": {
          "base_uri": "https://localhost:8080/",
          "height": 336
        },
        "id": "4szh9XZBzaIr",
        "outputId": "52fdd4ba-110c-4d78-c68c-ee4c261acf6b"
      },
      "execution_count": 27,
      "outputs": [
        {
          "output_type": "display_data",
          "data": {
            "text/plain": [
              "<Figure size 864x360 with 2 Axes>"
            ],
            "image/png": "[encoded data removed]"
          },
          "metadata": {
            "needs_background": "light"
          }
        }
      ]
    }
  ],
  "metadata": {
    "colab": {
      "collapsed_sections": [],
      "name": "Word Embedding, Word2Vec e Redes Neurais Convencionais.ipynb",
      "provenance": [],
      "authorship_tag": "ABX9TyO8nTRK7G3nCunODcqWSppc",
      "include_colab_link": true
    },
    "kernelspec": {
      "display_name": "Python 3",
      "name": "python3"
    },
    "language_info": {
      "name": "python"
    }
  },
  "nbformat": 4,
  "nbformat_minor": 0
}