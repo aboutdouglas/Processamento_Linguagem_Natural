{
  "nbformat": 4,
  "nbformat_minor": 0,
  "metadata": {
    "colab": {
      "name": "Processamento de Linguagem Natural (PLN).ipynb",
      "provenance": [],
      "authorship_tag": "ABX9TyP+tHCWsenLX2MxFwtYaZgK",
      "include_colab_link": true
    },
    "kernelspec": {
      "name": "python3",
      "display_name": "Python 3"
    },
    "language_info": {
      "name": "python"
    }
  },
  "cells": [
    {
      "cell_type": "markdown",
      "metadata": {
        "id": "view-in-github",
        "colab_type": "text"
      },
      "source": [
        "<a href=\"https://colab.research.google.com/github/aboutdouglas/Processamento_Linguagem_Natural/blob/main/Processamento_de_Linguagem_Natural_(PLN).ipynb\" target=\"_parent\"><img src=\"https://colab.research.google.com/assets/colab-badge.svg\" alt=\"Open In Colab\"/></a>"
      ]
    },
    {
      "cell_type": "code",
      "execution_count": null,
      "metadata": {
        "colab": {
          "base_uri": "https://localhost:8080/"
        },
        "id": "1se5pa6dhsal",
        "outputId": "ae122ab6-43cd-482d-b5eb-8ef94a550890"
      },
      "outputs": [
        {
          "output_type": "stream",
          "name": "stdout",
          "text": [
            "[nltk_data] Downloading package stopwords to /root/nltk_data...\n",
            "[nltk_data]   Unzipping corpora/stopwords.zip.\n",
            "[nltk_data] Downloading package punkt to /root/nltk_data...\n",
            "[nltk_data]   Unzipping tokenizers/punkt.zip.\n",
            "[nltk_data] Downloading package machado to /root/nltk_data...\n"
          ]
        },
        {
          "output_type": "execute_result",
          "data": {
            "text/plain": [
              "True"
            ]
          },
          "metadata": {},
          "execution_count": 1
        }
      ],
      "source": [
        "import nltk\n",
        "\n",
        "nltk.download('stopwords')\n",
        "nltk.download('punkt')\n",
        "nltk.download('machado')\n"
      ]
    },
    {
      "cell_type": "code",
      "source": [
        "import nltk\n",
        "from nltk.corpus import machado\n",
        "\n",
        "\n",
        "nltk.download('machado')\n",
        "\n",
        "machado.fileids()\n",
        "\n",
        "texto = machado.raw('romance/marm05.txt')\n",
        "texto = texto[10082:10954].replace('\\n',' ')\n",
        "print(texto)"
      ],
      "metadata": {
        "id": "U-ys_9eUh7UT"
      },
      "execution_count": null,
      "outputs": []
    },
    {
      "cell_type": "code",
      "source": [
        "from nltk.corpus import machado\n",
        "from nltk.tokenize import sent_tokenize\n",
        "\n",
        "machado.fileids()\n",
        "\n",
        "texto = machado.raw('romance/marm05.txt')\n",
        "texto = texto[10082:10954].replace('\\n',' ')\n",
        "print(texto)\n",
        "\n",
        "sentencas = sent_tokenize(texto, language='portuguese')\n",
        "for i,sent in enumerate(sentencas):\n",
        "     print(i,'-',sent)"
      ],
      "metadata": {
        "id": "eIgJQhL7k4m8"
      },
      "execution_count": null,
      "outputs": []
    },
    {
      "cell_type": "code",
      "source": [
        "from nltk.corpus import machado\n",
        "from nltk.tokenize import sent_tokenize\n",
        "from nltk.tokenize import word_tokenize\n",
        "\n",
        "machado.fileids()\n",
        "\n",
        "texto = machado.raw('romance/marm05.txt')\n",
        "texto = texto[10082:10954].replace('\\n',' ')\n",
        "print(texto)\n",
        "\n",
        "sentencas = sent_tokenize(texto, language='portuguese')\n",
        "for i,sent in enumerate(sentencas):\n",
        "     print(i,'-',sent)\n",
        "     \n",
        "palavras = word_tokenize(texto, language='portuguese')\n",
        "print(palavras)\n",
        "     "
      ],
      "metadata": {
        "id": "HDmvOrX0lFug"
      },
      "execution_count": null,
      "outputs": []
    },
    {
      "cell_type": "code",
      "source": [
        "from nltk.corpus import machado\n",
        "from nltk.tokenize import sent_tokenize,word_tokenize\n",
        "\n",
        "\n",
        "machado.fileids()\n",
        "\n",
        "texto = machado.raw('romance/marm05.txt')\n",
        "texto = texto[10082:10954].replace('\\n',' ')\n",
        "print(texto)\n",
        "\n",
        "sentencas = sent_tokenize(texto, language='portuguese')\n",
        "for i,sent in enumerate(sentencas):\n",
        "     print(i,'-',sent)\n",
        "     \n",
        "palavras = word_tokenize(texto, language='portuguese')\n",
        "print(palavras)\n",
        "\n",
        "\n",
        "sentencas = sent_tokenize(texto, language='portuguese')\n",
        "for i,sent in enumerate(sentencas):\n",
        "     print(i,'-',word_tokenize(sent, language='portuguese'))"
      ],
      "metadata": {
        "id": "r_RDDrHzlseR"
      },
      "execution_count": null,
      "outputs": []
    }
  ]
}