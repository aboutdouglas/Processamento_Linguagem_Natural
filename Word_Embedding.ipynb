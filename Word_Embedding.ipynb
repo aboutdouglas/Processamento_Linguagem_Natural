{
  "nbformat": 4,
  "nbformat_minor": 0,
  "metadata": {
    "colab": {
      "name": "Word Embedding.ipynb",
      "provenance": [],
      "collapsed_sections": [],
      "authorship_tag": "ABX9TyPPjBfLcIdXnwgM5+LlllQ9",
      "include_colab_link": true
    },
    "kernelspec": {
      "name": "python3",
      "display_name": "Python 3"
    },
    "language_info": {
      "name": "python"
    }
  },
  "cells": [
    {
      "cell_type": "markdown",
      "metadata": {
        "id": "view-in-github",
        "colab_type": "text"
      },
      "source": [
        "<a href=\"https://colab.research.google.com/github/aboutdouglas/Processamento_Linguagem_Natural/blob/main/Word_Embedding.ipynb\" target=\"_parent\"><img src=\"https://colab.research.google.com/assets/colab-badge.svg\" alt=\"Open In Colab\"/></a>"
      ]
    },
    {
      "cell_type": "code",
      "execution_count": 48,
      "metadata": {
        "colab": {
          "base_uri": "https://localhost:8080/",
          "height": 224
        },
        "id": "BqNHLx0jNhFr",
        "outputId": "15c03c6a-77ee-4a72-f3cd-2663d36d063c"
      },
      "outputs": [
        {
          "output_type": "stream",
          "name": "stdout",
          "text": [
            "Drive already mounted at /content/drive; to attempt to forcibly remount, call drive.mount(\"/content/drive\", force_remount=True).\n"
          ]
        },
        {
          "output_type": "execute_result",
          "data": {
            "text/plain": [
              "                                              review sentiment\n",
              "0  One of the other reviewers has mentioned that ...  positive\n",
              "1  A wonderful little production. <br /><br />The...  positive\n",
              "2  I thought this was a wonderful way to spend ti...  positive\n",
              "3  Basically there's a family where a little boy ...  negative\n",
              "4  Petter Mattei's \"Love in the Time of Money\" is...  positive"
            ],
            "text/html": [
              "\n",
              "  <div id=\"df-55116f15-0db5-4644-9c69-989f61ec81f9\">\n",
              "    <div class=\"colab-df-container\">\n",
              "      <div>\n",
              "<style scoped>\n",
              "    .dataframe tbody tr th:only-of-type {\n",
              "        vertical-align: middle;\n",
              "    }\n",
              "\n",
              "    .dataframe tbody tr th {\n",
              "        vertical-align: top;\n",
              "    }\n",
              "\n",
              "    .dataframe thead th {\n",
              "        text-align: right;\n",
              "    }\n",
              "</style>\n",
              "<table border=\"1\" class=\"dataframe\">\n",
              "  <thead>\n",
              "    <tr style=\"text-align: right;\">\n",
              "      <th></th>\n",
              "      <th>review</th>\n",
              "      <th>sentiment</th>\n",
              "    </tr>\n",
              "  </thead>\n",
              "  <tbody>\n",
              "    <tr>\n",
              "      <th>0</th>\n",
              "      <td>One of the other reviewers has mentioned that ...</td>\n",
              "      <td>positive</td>\n",
              "    </tr>\n",
              "    <tr>\n",
              "      <th>1</th>\n",
              "      <td>A wonderful little production. &lt;br /&gt;&lt;br /&gt;The...</td>\n",
              "      <td>positive</td>\n",
              "    </tr>\n",
              "    <tr>\n",
              "      <th>2</th>\n",
              "      <td>I thought this was a wonderful way to spend ti...</td>\n",
              "      <td>positive</td>\n",
              "    </tr>\n",
              "    <tr>\n",
              "      <th>3</th>\n",
              "      <td>Basically there's a family where a little boy ...</td>\n",
              "      <td>negative</td>\n",
              "    </tr>\n",
              "    <tr>\n",
              "      <th>4</th>\n",
              "      <td>Petter Mattei's \"Love in the Time of Money\" is...</td>\n",
              "      <td>positive</td>\n",
              "    </tr>\n",
              "  </tbody>\n",
              "</table>\n",
              "</div>\n",
              "      <button class=\"colab-df-convert\" onclick=\"convertToInteractive('df-55116f15-0db5-4644-9c69-989f61ec81f9')\"\n",
              "              title=\"Convert this dataframe to an interactive table.\"\n",
              "              style=\"display:none;\">\n",
              "        \n",
              "  <svg xmlns=\"http://www.w3.org/2000/svg\" height=\"24px\"viewBox=\"0 0 24 24\"\n",
              "       width=\"24px\">\n",
              "    <path d=\"M0 0h24v24H0V0z\" fill=\"none\"/>\n",
              "    <path d=\"M18.56 5.44l.94 2.06.94-2.06 2.06-.94-2.06-.94-.94-2.06-.94 2.06-2.06.94zm-11 1L8.5 8.5l.94-2.06 2.06-.94-2.06-.94L8.5 2.5l-.94 2.06-2.06.94zm10 10l.94 2.06.94-2.06 2.06-.94-2.06-.94-.94-2.06-.94 2.06-2.06.94z\"/><path d=\"M17.41 7.96l-1.37-1.37c-.4-.4-.92-.59-1.43-.59-.52 0-1.04.2-1.43.59L10.3 9.45l-7.72 7.72c-.78.78-.78 2.05 0 2.83L4 21.41c.39.39.9.59 1.41.59.51 0 1.02-.2 1.41-.59l7.78-7.78 2.81-2.81c.8-.78.8-2.07 0-2.86zM5.41 20L4 18.59l7.72-7.72 1.47 1.35L5.41 20z\"/>\n",
              "  </svg>\n",
              "      </button>\n",
              "      \n",
              "  <style>\n",
              "    .colab-df-container {\n",
              "      display:flex;\n",
              "      flex-wrap:wrap;\n",
              "      gap: 12px;\n",
              "    }\n",
              "\n",
              "    .colab-df-convert {\n",
              "      background-color: #E8F0FE;\n",
              "      border: none;\n",
              "      border-radius: 50%;\n",
              "      cursor: pointer;\n",
              "      display: none;\n",
              "      fill: #1967D2;\n",
              "      height: 32px;\n",
              "      padding: 0 0 0 0;\n",
              "      width: 32px;\n",
              "    }\n",
              "\n",
              "    .colab-df-convert:hover {\n",
              "      background-color: #E2EBFA;\n",
              "      box-shadow: 0px 1px 2px rgba(60, 64, 67, 0.3), 0px 1px 3px 1px rgba(60, 64, 67, 0.15);\n",
              "      fill: #174EA6;\n",
              "    }\n",
              "\n",
              "    [theme=dark] .colab-df-convert {\n",
              "      background-color: #3B4455;\n",
              "      fill: #D2E3FC;\n",
              "    }\n",
              "\n",
              "    [theme=dark] .colab-df-convert:hover {\n",
              "      background-color: #434B5C;\n",
              "      box-shadow: 0px 1px 3px 1px rgba(0, 0, 0, 0.15);\n",
              "      filter: drop-shadow(0px 1px 2px rgba(0, 0, 0, 0.3));\n",
              "      fill: #FFFFFF;\n",
              "    }\n",
              "  </style>\n",
              "\n",
              "      <script>\n",
              "        const buttonEl =\n",
              "          document.querySelector('#df-55116f15-0db5-4644-9c69-989f61ec81f9 button.colab-df-convert');\n",
              "        buttonEl.style.display =\n",
              "          google.colab.kernel.accessAllowed ? 'block' : 'none';\n",
              "\n",
              "        async function convertToInteractive(key) {\n",
              "          const element = document.querySelector('#df-55116f15-0db5-4644-9c69-989f61ec81f9');\n",
              "          const dataTable =\n",
              "            await google.colab.kernel.invokeFunction('convertToInteractive',\n",
              "                                                     [key], {});\n",
              "          if (!dataTable) return;\n",
              "\n",
              "          const docLinkHtml = 'Like what you see? Visit the ' +\n",
              "            '<a target=\"_blank\" href=https://colab.research.google.com/notebooks/data_table.ipynb>data table notebook</a>'\n",
              "            + ' to learn more about interactive tables.';\n",
              "          element.innerHTML = '';\n",
              "          dataTable['output_type'] = 'display_data';\n",
              "          await google.colab.output.renderOutput(dataTable, element);\n",
              "          const docLink = document.createElement('div');\n",
              "          docLink.innerHTML = docLinkHtml;\n",
              "          element.appendChild(docLink);\n",
              "        }\n",
              "      </script>\n",
              "    </div>\n",
              "  </div>\n",
              "  "
            ]
          },
          "metadata": {},
          "execution_count": 48
        }
      ],
      "source": [
        "import pandas as pd\n",
        "from google.colab import drive\n",
        "\n",
        "drive.mount('/content/drive')\n",
        "df = pd.read_csv('/content/drive/MyDrive/Colab Notebooks/Pós Graduação/Bases/IMDB_Dataset.csv')\n",
        "df.head()"
      ]
    },
    {
      "cell_type": "code",
      "source": [
        "import sklearn\n",
        "from sklearn.model_selection import train_test_split\n",
        "\n",
        "X_train, X_test, y_train, y_test = train_test_split(df['review'], df['sentiment'], test_size=0.2, random_state=0)\n",
        "\n",
        "print('X_train shape:', X_train.shape)\n",
        "print('y_train shape:', y_train.shape)\n",
        "print('X_test shape:', X_test.shape)\n",
        "print('y_test shape:', y_test.shape)"
      ],
      "metadata": {
        "colab": {
          "base_uri": "https://localhost:8080/"
        },
        "id": "AgnvgQpKOhGJ",
        "outputId": "4abb73f6-6e17-4ffc-8917-c5eaeaedddc8"
      },
      "execution_count": 49,
      "outputs": [
        {
          "output_type": "stream",
          "name": "stdout",
          "text": [
            "X_train shape: (40000,)\n",
            "y_train shape: (40000,)\n",
            "X_test shape: (10000,)\n",
            "y_test shape: (10000,)\n"
          ]
        }
      ]
    },
    {
      "cell_type": "markdown",
      "source": [
        "Comecemos utilizando a classe Tokenizer, que pode vetorizar um corpus de texto em uma lista de inteiros, os quais representam o índice da palavra no dicionário que codifica todo o corpus. O parâmetro \"num_words\" define o tamanho máximo desse dicionário. "
      ],
      "metadata": {
        "id": "uoDuQfVyRWW6"
      }
    },
    {
      "cell_type": "code",
      "source": [
        "%%time\n",
        "from keras.preprocessing.text import Tokenizer\n",
        "\n",
        "tokenizer = Tokenizer(num_words=10000)\n",
        "tokenizer.fit_on_texts(X_train)\n",
        "tk_X_train = tokenizer.texts_to_sequences(X_train)\n",
        "tk_X_test = tokenizer.texts_to_sequences(X_test)\n",
        "\n",
        "vocab_size = len(tokenizer.word_index) + 1\n",
        "print(X_train[0])\n",
        "print(tk_X_train[0])"
      ],
      "metadata": {
        "colab": {
          "base_uri": "https://localhost:8080/"
        },
        "id": "95Vp87hlRQNm",
        "outputId": "83e30363-11e2-48ab-da43-027e1c0c0d64"
      },
      "execution_count": 50,
      "outputs": [
        {
          "output_type": "stream",
          "name": "stdout",
          "text": [
            "One of the other reviewers has mentioned that after watching just 1 Oz episode you'll be hooked. They are right, as this is exactly what happened with me.<br /><br />The first thing that struck me about Oz was its brutality and unflinching scenes of violence, which set in right from the word GO. Trust me, this is not a show for the faint hearted or timid. This show pulls no punches with regards to drugs, sex or violence. Its is hardcore, in the classic use of the word.<br /><br />It is called OZ as that is the nickname given to the Oswald Maximum Security State Penitentary. It focuses mainly on Emerald City, an experimental section of the prison where all the cells have glass fronts and face inwards, so privacy is not high on the agenda. Em City is home to many..Aryans, Muslims, gangstas, Latinos, Christians, Italians, Irish and more....so scuffles, death stares, dodgy dealings and shady agreements are never far away.<br /><br />I would say the main appeal of the show is due to the fact that it goes where other shows wouldn't dare. Forget pretty pictures painted for mainstream audiences, forget charm, forget romance...OZ doesn't mess around. The first episode I ever saw struck me as so nasty it was surreal, I couldn't say I was ready for it, but as I watched more, I developed a taste for Oz, and got accustomed to the high levels of graphic violence. Not just violence, but injustice (crooked guards who'll be sold out for a nickel, inmates who'll kill on order and get away with it, well mannered, middle class inmates being turned into prison bitches due to their lack of street skills or prison experience) Watching Oz, you may become comfortable with what is uncomfortable viewing....thats if you can get in touch with your darker side.\n",
            "[196, 41, 1, 61, 1712, 481, 8, 3, 17, 12, 884, 7195, 1, 6149, 1721, 31, 2349, 1378, 4, 56, 113, 2, 285, 16, 109, 1017, 7, 7, 922, 87, 12, 219, 15, 1, 4348, 122, 190, 3, 8164, 8, 372, 6, 681, 68]\n",
            "CPU times: user 23.9 s, sys: 151 ms, total: 24.1 s\n",
            "Wall time: 30.6 s\n"
          ]
        }
      ]
    },
    {
      "cell_type": "markdown",
      "source": [
        "Conforme pode ser observado acima, em vez de trabalhar com um vetor de 10000 colunas para representar o dicionário, conseguimos reduzir bastante a dimensionalidade. As palavras são colocadas no dicionário ordenadas a partir das possuem maior frequência. Veja, a seguir, alguns exemplos."
      ],
      "metadata": {
        "id": "dtdFf7-cUEZD"
      }
    },
    {
      "cell_type": "code",
      "source": [
        "for word in ['movie', 'film', 'the', 'one']:\n",
        "  print('{}: {}'.format(word, tokenizer.word_index[word]))\n"
      ],
      "metadata": {
        "colab": {
          "base_uri": "https://localhost:8080/"
        },
        "id": "T20mKfU9UG-A",
        "outputId": "09d891e9-2928-4f4f-9b4a-8ea6e3fc97d1"
      },
      "execution_count": 51,
      "outputs": [
        {
          "output_type": "stream",
          "name": "stdout",
          "text": [
            "movie: 17\n",
            "film: 19\n",
            "the: 1\n",
            "one: 27\n"
          ]
        }
      ]
    },
    {
      "cell_type": "markdown",
      "source": [
        "O único obstáculo é que cada sentença terá um tamanho diferente, pois cada sentença tem um número de tokens próprio. Para resolver isso, podemos identificar qual o valor máximo e, depois, preencher o vetor com zeros. Vamos identificar primeiro o maior vetor: "
      ],
      "metadata": {
        "id": "sMZIuadaUwt1"
      }
    },
    {
      "cell_type": "code",
      "source": [
        "print('Max size:', max([len(i) for i in tk_X_train]))"
      ],
      "metadata": {
        "colab": {
          "base_uri": "https://localhost:8080/"
        },
        "id": "-LDLlZTjUzgI",
        "outputId": "cd6044e0-394d-4ecb-e12d-3a8211f11288"
      },
      "execution_count": 52,
      "outputs": [
        {
          "output_type": "stream",
          "name": "stdout",
          "text": [
            "Max size: 2211\n"
          ]
        }
      ]
    },
    {
      "cell_type": "markdown",
      "source": [
        "Em seguida, é necessário realizar o padding para preencher com zeros:"
      ],
      "metadata": {
        "id": "dYjpKGE9VDgg"
      }
    },
    {
      "cell_type": "code",
      "source": [
        "from keras.preprocessing.sequence import pad_sequences\n",
        "\n",
        "maxlen = max([len(i) for i in tk_X_train])\n",
        "tk_pad_X_train  = pad_sequences(tk_X_train, padding='post', maxlen=maxlen)\n",
        "tk_pad_X_test = pad_sequences(tk_X_test, padding='post', maxlen=maxlen)\n",
        "print(tk_pad_X_train[0,:])"
      ],
      "metadata": {
        "colab": {
          "base_uri": "https://localhost:8080/"
        },
        "id": "OQuLgTBIVEMr",
        "outputId": "d7e93dce-98c7-4b96-d5ef-0bca24a1c82a"
      },
      "execution_count": 53,
      "outputs": [
        {
          "output_type": "stream",
          "name": "stdout",
          "text": [
            "[196  41   1 ...   0   0   0]\n"
          ]
        }
      ]
    },
    {
      "cell_type": "markdown",
      "source": [
        "Agora, temos, no máximo, um vetor com 2211 colunas, que é o máximo de palavras que uma review possui. Neste momento, vamos codificar a saída esperada (Target), conforme já feito anteriormente:"
      ],
      "metadata": {
        "id": "VkkYRofKWUv7"
      }
    },
    {
      "cell_type": "code",
      "source": [
        "from sklearn.preprocessing import LabelBinarizer\n",
        "lb = LabelBinarizer()\n",
        "\n",
        "ohe_y_train = lb.fit_transform(y_train)\n",
        "ohe_y_test = lb.fit_transform(y_test)\n",
        "print('ohe_y_train shape:', ohe_y_train.shape)\n",
        "print('ohe_y_test shape:', ohe_y_test.shape)"
      ],
      "metadata": {
        "colab": {
          "base_uri": "https://localhost:8080/"
        },
        "id": "q1cBYB9CWnS_",
        "outputId": "978499d8-b9a5-4369-dc01-6dc1be53c102"
      },
      "execution_count": 54,
      "outputs": [
        {
          "output_type": "stream",
          "name": "stdout",
          "text": [
            "ohe_y_train shape: (40000, 1)\n",
            "ohe_y_test shape: (10000, 1)\n"
          ]
        }
      ]
    },
    {
      "cell_type": "markdown",
      "source": [
        "Podemos, agora, utilizar a classe Embedding do Keras para incorporar essa nova codificação. Essa camada Embedding pega os inteiros calculados anteriormente e os mapeia para um vetor denso de incorporação. Mas, antes, vamos fazer as importações necessárias, conforme a seguir."
      ],
      "metadata": {
        "id": "JFmruc__XTtI"
      }
    },
    {
      "cell_type": "code",
      "source": [
        "from keras.models import Sequential\n",
        "from keras.layers import Embedding, Flatten, Dense, GlobalMaxPool1D, Dropout, Conv1D, GlobalMaxPool1D\n",
        "import tensorflow\n",
        "from keras.optimizers import adam_v2 as Adam"
      ],
      "metadata": {
        "id": "8_z77nJYXcuU"
      },
      "execution_count": 55,
      "outputs": []
    },
    {
      "cell_type": "markdown",
      "source": [
        "E definir os hiperparâmetros do treinamento:"
      ],
      "metadata": {
        "id": "IafhpKsuYAqv"
      }
    },
    {
      "cell_type": "code",
      "source": [
        "from keras.optimizer_v1 import Optimizer\n",
        "NB_EPOCH = 20\n",
        "BATCH_SIZE = 128\n",
        "VERBOSE = 1\n",
        "OPTIMIZER = Adam"
      ],
      "metadata": {
        "id": "DF86SM_2YASv"
      },
      "execution_count": 56,
      "outputs": []
    },
    {
      "cell_type": "markdown",
      "source": [
        "Agora, sim, vamos definir uma arquitetura de rede neural:"
      ],
      "metadata": {
        "id": "ppiRKu5rZBLM"
      }
    },
    {
      "cell_type": "code",
      "source": [
        "model = Sequential()\n",
        "model.add(Embedding(input_dim=vocab_size, output_dim=50, input_length=maxlen))\n",
        "model.add(Flatten())\n",
        "model.add(Dense(10, activation='relu'))\n",
        "model.add(Dense(1, activation='sigmoid'))\n",
        "model.compile(optimizer='Adam', loss='binary_crossentropy', metrics=['accuracy'])\n",
        "model.summary()"
      ],
      "metadata": {
        "colab": {
          "base_uri": "https://localhost:8080/"
        },
        "id": "XFDZQ_oSZB9B",
        "outputId": "2f579ab0-23f6-4ca5-b29c-63da5167d9af"
      },
      "execution_count": 57,
      "outputs": [
        {
          "output_type": "stream",
          "name": "stdout",
          "text": [
            "Model: \"sequential_10\"\n",
            "_________________________________________________________________\n",
            " Layer (type)                Output Shape              Param #   \n",
            "=================================================================\n",
            " embedding_10 (Embedding)    (None, 2211, 50)          5606350   \n",
            "                                                                 \n",
            " flatten_9 (Flatten)         (None, 110550)            0         \n",
            "                                                                 \n",
            " dense_20 (Dense)            (None, 10)                1105510   \n",
            "                                                                 \n",
            " dense_21 (Dense)            (None, 1)                 11        \n",
            "                                                                 \n",
            "=================================================================\n",
            "Total params: 6,711,871\n",
            "Trainable params: 6,711,871\n",
            "Non-trainable params: 0\n",
            "_________________________________________________________________\n"
          ]
        }
      ]
    },
    {
      "cell_type": "markdown",
      "source": [
        "Veja que esta já é uma rede de bem mais parâmetros. Vamos treinar com o uso de GPU e ver o resultado."
      ],
      "metadata": {
        "id": "556tFxZPeNbZ"
      }
    },
    {
      "cell_type": "code",
      "source": [
        "%%time\n",
        "history = model.fit(tk_pad_X_train, ohe_y_train, epochs=NB_EPOCH, verbose=1, validation_data=(tk_pad_X_test, ohe_y_test),\n",
        "                    batch_size=BATCH_SIZE)"
      ],
      "metadata": {
        "colab": {
          "base_uri": "https://localhost:8080/"
        },
        "id": "ZqITZAddeON-",
        "outputId": "c5dd4924-ed20-4fef-edc3-57a80350c4c6"
      },
      "execution_count": 58,
      "outputs": [
        {
          "output_type": "stream",
          "name": "stdout",
          "text": [
            "Epoch 1/20\n",
            "313/313 [==============================] - 47s 149ms/step - loss: 0.4282 - accuracy: 0.7926 - val_loss: 0.2895 - val_accuracy: 0.8818\n",
            "Epoch 2/20\n",
            "313/313 [==============================] - 47s 149ms/step - loss: 0.2038 - accuracy: 0.9229 - val_loss: 0.2735 - val_accuracy: 0.8891\n",
            "Epoch 3/20\n",
            "313/313 [==============================] - 47s 149ms/step - loss: 0.1148 - accuracy: 0.9626 - val_loss: 0.3009 - val_accuracy: 0.8867\n",
            "Epoch 4/20\n",
            "313/313 [==============================] - 47s 149ms/step - loss: 0.0451 - accuracy: 0.9917 - val_loss: 0.3367 - val_accuracy: 0.8859\n",
            "Epoch 5/20\n",
            "313/313 [==============================] - 47s 149ms/step - loss: 0.0149 - accuracy: 0.9985 - val_loss: 0.4010 - val_accuracy: 0.8824\n",
            "Epoch 6/20\n",
            "313/313 [==============================] - 47s 149ms/step - loss: 0.0051 - accuracy: 0.9997 - val_loss: 0.4448 - val_accuracy: 0.8822\n",
            "Epoch 7/20\n",
            "313/313 [==============================] - 47s 150ms/step - loss: 0.0020 - accuracy: 1.0000 - val_loss: 0.4803 - val_accuracy: 0.8833\n",
            "Epoch 8/20\n",
            "313/313 [==============================] - 46s 148ms/step - loss: 0.0011 - accuracy: 1.0000 - val_loss: 0.5115 - val_accuracy: 0.8831\n",
            "Epoch 9/20\n",
            "313/313 [==============================] - 47s 150ms/step - loss: 6.4841e-04 - accuracy: 1.0000 - val_loss: 0.5392 - val_accuracy: 0.8827\n",
            "Epoch 10/20\n",
            "313/313 [==============================] - 48s 153ms/step - loss: 4.2521e-04 - accuracy: 1.0000 - val_loss: 0.5628 - val_accuracy: 0.8829\n",
            "Epoch 11/20\n",
            "313/313 [==============================] - 47s 149ms/step - loss: 2.9402e-04 - accuracy: 1.0000 - val_loss: 0.5840 - val_accuracy: 0.8830\n",
            "Epoch 12/20\n",
            "313/313 [==============================] - 47s 150ms/step - loss: 2.0981e-04 - accuracy: 1.0000 - val_loss: 0.6038 - val_accuracy: 0.8831\n",
            "Epoch 13/20\n",
            "313/313 [==============================] - 47s 151ms/step - loss: 1.5397e-04 - accuracy: 1.0000 - val_loss: 0.6223 - val_accuracy: 0.8832\n",
            "Epoch 14/20\n",
            "313/313 [==============================] - 47s 151ms/step - loss: 1.1436e-04 - accuracy: 1.0000 - val_loss: 0.6397 - val_accuracy: 0.8820\n",
            "Epoch 15/20\n",
            "313/313 [==============================] - 47s 151ms/step - loss: 8.6962e-05 - accuracy: 1.0000 - val_loss: 0.6564 - val_accuracy: 0.8825\n",
            "Epoch 16/20\n",
            "313/313 [==============================] - 47s 150ms/step - loss: 6.6974e-05 - accuracy: 1.0000 - val_loss: 0.6722 - val_accuracy: 0.8821\n",
            "Epoch 17/20\n",
            "313/313 [==============================] - 47s 150ms/step - loss: 5.2124e-05 - accuracy: 1.0000 - val_loss: 0.6883 - val_accuracy: 0.8817\n",
            "Epoch 18/20\n",
            "313/313 [==============================] - 47s 149ms/step - loss: 4.1063e-05 - accuracy: 1.0000 - val_loss: 0.7024 - val_accuracy: 0.8818\n",
            "Epoch 19/20\n",
            "313/313 [==============================] - 47s 150ms/step - loss: 3.2427e-05 - accuracy: 1.0000 - val_loss: 0.7170 - val_accuracy: 0.8815\n",
            "Epoch 20/20\n",
            "313/313 [==============================] - 46s 149ms/step - loss: 2.5796e-05 - accuracy: 1.0000 - val_loss: 0.7310 - val_accuracy: 0.8814\n",
            "CPU times: user 26min 43s, sys: 1min 25s, total: 28min 8s\n",
            "Wall time: 16min 22s\n"
          ]
        }
      ]
    },
    {
      "cell_type": "markdown",
      "source": [
        "Vamos calcular a acurácia:"
      ],
      "metadata": {
        "id": "bQdAGn2ViyPQ"
      }
    },
    {
      "cell_type": "code",
      "source": [
        "loss, accuracy = model.evaluate(tk_pad_X_test, ohe_y_test, verbose=False)\n",
        "print(\"Acurácia do Teste: {:.4f}\".format(accuracy))"
      ],
      "metadata": {
        "colab": {
          "base_uri": "https://localhost:8080/"
        },
        "id": "GcNV4UDGi0Rx",
        "outputId": "284b76d6-dcf4-476b-cbbd-46b3a074a496"
      },
      "execution_count": 59,
      "outputs": [
        {
          "output_type": "stream",
          "name": "stdout",
          "text": [
            "Acurácia do Teste: 0.8814\n"
          ]
        }
      ]
    },
    {
      "cell_type": "markdown",
      "source": [
        "Veja que obtivemos 88,25%.\n",
        "\n",
        "Vamos definir uma função para plotar a acurácia e perda do treino e teste."
      ],
      "metadata": {
        "id": "CYS8QJlgoPWl"
      }
    },
    {
      "cell_type": "code",
      "source": [
        "import matplotlib\n",
        "import matplotlib.pyplot as plt\n",
        "\n",
        "def plot_history(history):\n",
        "  acc = history.history['accuracy']\n",
        "  val_acc = history.history['val_accuracy']\n",
        "  loss = history.history['loss']\n",
        "  val_loss = history.history['val_loss']\n",
        "  x = range(1, len(acc) + 1)\n",
        "  plt.figure(figsize=(12,5))\n",
        "  plt.subplot(1, 2, 1)\n",
        "  plt.plot(x, acc, 'b', label='Precisão de treinamento')\n",
        "  plt.plot(x, val_acc, 'r', label='Precisão de validação')\n",
        "  plt.title('Precisão de treinamento e validação')\n",
        "  plt.legend()\n",
        "  plt.subplot(1, 2, 2)\n",
        "  plt.plot(x, loss, 'b', label='Perda de treinamento')\n",
        "  plt.plot(x, val_loss, 'r', label='Perda de validação')\n",
        "  plt.title('Perda de treinamento e validação')\n",
        "  plt.legend()\n",
        "\n",
        "plot_history(history)"
      ],
      "metadata": {
        "colab": {
          "base_uri": "https://localhost:8080/",
          "height": 336
        },
        "id": "l9FzyYCdoTRv",
        "outputId": "96b050b5-0fb6-4560-a740-64d52ff81b1e"
      },
      "execution_count": 60,
      "outputs": [
        {
          "output_type": "display_data",
          "data": {
            "text/plain": [
              "<Figure size 864x360 with 2 Axes>"
            ],
            "image/png": "[encoded data removed]"
          },
          "metadata": {
            "needs_background": "light"
          }
        }
      ]
    },
    {
      "cell_type": "markdown",
      "source": [
        "Conforme visto acima, o treinamento chegou próximo de 100% para os dados de treino, mas não para os dados de teste. Isso pode ser pelo fato de não termos adicionado uma camada Dropout. Veja que o resultado não alterou após uma quantidade de épocas, logo, vamos limitar a execução para 10 épocas. Além disso, vamos adicionar à nossa rede uma camada Max Pooling após o Embedding, como uma forma de reduzir o tamanho dos vetores de entrada."
      ],
      "metadata": {
        "id": "RCx_ktT8vEWz"
      }
    },
    {
      "cell_type": "code",
      "source": [
        "model = Sequential()\n",
        "model.add(Embedding(input_dim=vocab_size, output_dim=50, input_length=maxlen))\n",
        "model.add(GlobalMaxPool1D())\n",
        "model.add(Dense(16, activation='relu'))\n",
        "model.add(Dropout(0.5))\n",
        "model.add(Dense(1, activation='sigmoid'))\n",
        "model.compile(optimizer='Adam', loss = 'binary_crossentropy', metrics=['accuracy'])\n",
        "model.summary() "
      ],
      "metadata": {
        "colab": {
          "base_uri": "https://localhost:8080/"
        },
        "id": "j1i5GWW4vOgX",
        "outputId": "7754c38f-3090-4845-87d0-b4fd09dffe56"
      },
      "execution_count": 61,
      "outputs": [
        {
          "output_type": "stream",
          "name": "stdout",
          "text": [
            "Model: \"sequential_11\"\n",
            "_________________________________________________________________\n",
            " Layer (type)                Output Shape              Param #   \n",
            "=================================================================\n",
            " embedding_11 (Embedding)    (None, 2211, 50)          5606350   \n",
            "                                                                 \n",
            " global_max_pooling1d_1 (Glo  (None, 50)               0         \n",
            " balMaxPooling1D)                                                \n",
            "                                                                 \n",
            " dense_22 (Dense)            (None, 16)                816       \n",
            "                                                                 \n",
            " dropout_1 (Dropout)         (None, 16)                0         \n",
            "                                                                 \n",
            " dense_23 (Dense)            (None, 1)                 17        \n",
            "                                                                 \n",
            "=================================================================\n",
            "Total params: 5,607,183\n",
            "Trainable params: 5,607,183\n",
            "Non-trainable params: 0\n",
            "_________________________________________________________________\n"
          ]
        }
      ]
    },
    {
      "cell_type": "markdown",
      "source": [
        "Vamos treinar e ver o resultado."
      ],
      "metadata": {
        "id": "xE3xB2onwaMq"
      }
    },
    {
      "cell_type": "code",
      "source": [
        "%%time\n",
        "history = model.fit(tk_pad_X_train, ohe_y_train, epochs=NB_EPOCH, verbose=1,\n",
        "                    validation_data=(tk_pad_X_test, ohe_y_test),\n",
        "                    batch_size=BATCH_SIZE)"
      ],
      "metadata": {
        "colab": {
          "base_uri": "https://localhost:8080/"
        },
        "id": "rHkL9fRXwbvw",
        "outputId": "1c135c4b-7301-4d73-f0fe-8e13ac984733"
      },
      "execution_count": 62,
      "outputs": [
        {
          "output_type": "stream",
          "name": "stdout",
          "text": [
            "Epoch 1/20\n",
            "313/313 [==============================] - 48s 152ms/step - loss: 0.5879 - accuracy: 0.7076 - val_loss: 0.3859 - val_accuracy: 0.8492\n",
            "Epoch 2/20\n",
            "313/313 [==============================] - 47s 150ms/step - loss: 0.3509 - accuracy: 0.8586 - val_loss: 0.3005 - val_accuracy: 0.8730\n",
            "Epoch 3/20\n",
            "313/313 [==============================] - 47s 149ms/step - loss: 0.2766 - accuracy: 0.8954 - val_loss: 0.2837 - val_accuracy: 0.8772\n",
            "Epoch 4/20\n",
            "313/313 [==============================] - 47s 151ms/step - loss: 0.2321 - accuracy: 0.9169 - val_loss: 0.2802 - val_accuracy: 0.8789\n",
            "Epoch 5/20\n",
            "313/313 [==============================] - 47s 150ms/step - loss: 0.1920 - accuracy: 0.9343 - val_loss: 0.2857 - val_accuracy: 0.8840\n",
            "Epoch 6/20\n",
            "313/313 [==============================] - 47s 150ms/step - loss: 0.1569 - accuracy: 0.9493 - val_loss: 0.2973 - val_accuracy: 0.8819\n",
            "Epoch 7/20\n",
            "313/313 [==============================] - 47s 150ms/step - loss: 0.1303 - accuracy: 0.9597 - val_loss: 0.3143 - val_accuracy: 0.8832\n",
            "Epoch 8/20\n",
            "313/313 [==============================] - 46s 147ms/step - loss: 0.1055 - accuracy: 0.9693 - val_loss: 0.3357 - val_accuracy: 0.8822\n",
            "Epoch 9/20\n",
            "313/313 [==============================] - 46s 148ms/step - loss: 0.0843 - accuracy: 0.9775 - val_loss: 0.3635 - val_accuracy: 0.8812\n",
            "Epoch 10/20\n",
            "313/313 [==============================] - 47s 150ms/step - loss: 0.0682 - accuracy: 0.9832 - val_loss: 0.3908 - val_accuracy: 0.8781\n",
            "Epoch 11/20\n",
            "313/313 [==============================] - 46s 147ms/step - loss: 0.0542 - accuracy: 0.9865 - val_loss: 0.4330 - val_accuracy: 0.8775\n",
            "Epoch 12/20\n",
            "313/313 [==============================] - 47s 150ms/step - loss: 0.0445 - accuracy: 0.9892 - val_loss: 0.4603 - val_accuracy: 0.8774\n",
            "Epoch 13/20\n",
            "313/313 [==============================] - 46s 148ms/step - loss: 0.0343 - accuracy: 0.9923 - val_loss: 0.4956 - val_accuracy: 0.8751\n",
            "Epoch 14/20\n",
            "313/313 [==============================] - 46s 148ms/step - loss: 0.0285 - accuracy: 0.9939 - val_loss: 0.5261 - val_accuracy: 0.8763\n",
            "Epoch 15/20\n",
            "313/313 [==============================] - 46s 148ms/step - loss: 0.0238 - accuracy: 0.9946 - val_loss: 0.5645 - val_accuracy: 0.8769\n",
            "Epoch 16/20\n",
            "313/313 [==============================] - 46s 147ms/step - loss: 0.0196 - accuracy: 0.9959 - val_loss: 0.6017 - val_accuracy: 0.8773\n",
            "Epoch 17/20\n",
            "313/313 [==============================] - 46s 147ms/step - loss: 0.0169 - accuracy: 0.9961 - val_loss: 0.6292 - val_accuracy: 0.8770\n",
            "Epoch 18/20\n",
            "313/313 [==============================] - 46s 147ms/step - loss: 0.0145 - accuracy: 0.9962 - val_loss: 0.6879 - val_accuracy: 0.8762\n",
            "Epoch 19/20\n",
            "313/313 [==============================] - 46s 147ms/step - loss: 0.0120 - accuracy: 0.9972 - val_loss: 0.7134 - val_accuracy: 0.8765\n",
            "Epoch 20/20\n",
            "313/313 [==============================] - 46s 148ms/step - loss: 0.0104 - accuracy: 0.9973 - val_loss: 0.7659 - val_accuracy: 0.8745\n",
            "CPU times: user 26min 4s, sys: 1min 2s, total: 27min 7s\n",
            "Wall time: 16min 22s\n"
          ]
        }
      ]
    },
    {
      "cell_type": "markdown",
      "source": [
        "Vamos calcular a acurácia:"
      ],
      "metadata": {
        "id": "xxc3xTHmQ_8T"
      }
    },
    {
      "cell_type": "code",
      "source": [
        "loss, accuracy = model.evaluate(tk_pad_X_test, ohe_y_test, verbose=False)\n",
        "print('Acurácia do Teste: {:.4f}'.format(accuracy))"
      ],
      "metadata": {
        "colab": {
          "base_uri": "https://localhost:8080/"
        },
        "id": "LZyIX_mjRCwK",
        "outputId": "7087e407-2c62-480b-ba07-2550b5ca626f"
      },
      "execution_count": 63,
      "outputs": [
        {
          "output_type": "stream",
          "name": "stdout",
          "text": [
            "Acurácia do Teste: 0.8745\n"
          ]
        }
      ]
    },
    {
      "cell_type": "markdown",
      "source": [
        "Na próxima imagem, podemos ver novamente os gráficos do treinamento: primeiramente da acurácia (que queremos maximizar); e outro da função de perda (que queremos minimizar). As linhas azuis se referem ao resultado com dados de treino, e a vermelha aos dados de teste."
      ],
      "metadata": {
        "id": "bW4kUAXaR9tI"
      }
    },
    {
      "cell_type": "code",
      "source": [
        "plot_history(history)"
      ],
      "metadata": {
        "colab": {
          "base_uri": "https://localhost:8080/",
          "height": 336
        },
        "id": "Zv5QOVbQR2Gi",
        "outputId": "9762c432-5592-47d7-8f78-2dd638d1a28c"
      },
      "execution_count": 64,
      "outputs": [
        {
          "output_type": "display_data",
          "data": {
            "text/plain": [
              "<Figure size 864x360 with 2 Axes>"
            ],
            "image/png": "[encoded data removed]"
          },
          "metadata": {
            "needs_background": "light"
          }
        }
      ]
    },
    {
      "cell_type": "markdown",
      "source": [
        "Na figura acima, podemos observar o resultado do treinamento do nosso modelo por meio dos gráficos de acurácia (accuracy) e função de perda (validation loss). Podemos perceber que, com os dados de treino, obtivemos um resultado bem satisfatório, acima de 0.95 de acurácia e com perda abaixo de 0.1. No entanto, com os dados de treinos, o resultado ficou cerca de 0.87."
      ],
      "metadata": {
        "id": "Yj0g96ILSaXa"
      }
    }
  ]
}